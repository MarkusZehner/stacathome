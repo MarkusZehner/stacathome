{
 "cells": [
  {
   "cell_type": "code",
   "execution_count": null,
   "id": "3c32a988",
   "metadata": {},
   "outputs": [],
   "source": [
    "from pathlib import Path\n",
    "\n",
    "from stacathome.redo_classes.requests import stacathome_wrapper\n",
    "\n",
    "from stacathome.redo_classes.generic_utils import parse_dec_to_lon_lat_point, metric_buffer\n",
    "\n",
    "point = parse_dec_to_lon_lat_point('45.2, 10.4')\n",
    "p_boxed = metric_buffer(point, 1000, return_box=True)\n",
    "\n",
    "\n",
    "collections = [\n",
    "    'sentinel-2-l2a',\n",
    "    'sentinel-1-rtc',\n",
    "    'landsat-c2-l2',\n",
    "    'OPERAS1Product',\n",
    "    'ECO_L2T_LSTE.002',\n",
    "    'sentinel-3-synergy-syn-l2-netcdf', \n",
    "    'modis-13Q1-061',\n",
    "]\n",
    "subset_bands = {\n",
    "    'sentinel-2-l2a': ['B02'],\n",
    "    'sentinel-1-rtc' : ['VV'],\n",
    "    'landsat-c2-l2': [\"blue\"],\n",
    "    \"OPERAS1Product\" : ['VV'],\n",
    "    'ECO_L2T_LSTE.002' : ['LST'],\n",
    "    'sentinel-3-synergy-syn-l2-netcdf' : ['syn-s2o-reflectance'], \n",
    "    'modis-13Q1-061': ['250m_16_days_EVI'],\n",
    "}\n",
    "time_ranges = {\n",
    "    'sentinel-2-l2a': '2022-06-01/2022-06-30',\n",
    "    'sentinel-1-rtc': '2022-06-01/2022-06-30',\n",
    "    'landsat-c2-l2': '2022-06-01/2022-06-30',\n",
    "    'OPERAS1Product': '2022-06-01/2022-06-30',\n",
    "    'ECO_L2T_LSTE.002' : '2022-06-01/2022-06-30',\n",
    "    'sentinel-3-synergy-syn-l2-netcdf' : '2022-06-01/2022-06-30',\n",
    "    'modis-13Q1-061': '2019-06-01/2019-06-30',\n",
    "\n",
    "}\n",
    "\n",
    "tmp_path_out = Path('/.../temp_test')\n",
    "\n",
    "cubes = stacathome_wrapper(\n",
    "                area=p_boxed,\n",
    "                time_range=time_ranges,\n",
    "                collections=collections,\n",
    "                subset_bands=subset_bands,\n",
    "                path_out=tmp_path_out,\n",
    "                name_ident='this_is_a_test')"
   ]
  }
 ],
 "metadata": {
  "language_info": {
   "name": "python"
  }
 },
 "nbformat": 4,
 "nbformat_minor": 5
}
