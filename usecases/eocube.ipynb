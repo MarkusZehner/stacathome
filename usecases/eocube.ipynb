{
 "cells": [
  {
   "cell_type": "markdown",
   "id": "bd12164c",
   "metadata": {},
   "source": [
    "# stacathome for site-specific downloads of ECOSTRESS"
   ]
  },
  {
   "cell_type": "markdown",
   "id": "adbf3e1c",
   "metadata": {},
   "source": [
    "To run this script, \n",
    "\n",
    "1) install stacathome as descibed in the readme. \n",
    "    1.1) activate environment:  source .venv/bin/activate\n",
    "    1.2) install ipykernel: uv pip install ipykernel\n",
    "    1.3) install a kernel you can use in this notebook: python -m ipykernel install --user --name stacathome --display-name \"stacathome\" \n",
    "\n",
    "2) create an earthaccess account: https://www.earthdata.nasa.gov/data/tools/earthaccess\n",
    "3) import earthaccess and then run earthaccess.login(persist=True) to write the credentials to your home folder so you'll stay logged in. "
   ]
  },
  {
   "cell_type": "code",
   "execution_count": null,
   "id": "487bc902",
   "metadata": {},
   "outputs": [],
   "source": [
    "import earthaccess\n",
    "earthaccess.login(persist=True)"
   ]
  },
  {
   "cell_type": "markdown",
   "id": "ffdbac19",
   "metadata": {},
   "source": [
    "We select a region of interest, in this example Johannesburg (SA; UTM point: 603053,7099667 ), but for downloading for example over an active Fluxnet site, check this page:\n",
    "https://www.icos-etc.eu/home/sites-list\n",
    "\n",
    "We need to specify a buffer around the site that will be targeted for download. Specify size of the box for your buffer and resolution to indicate size."
   ]
  },
  {
   "cell_type": "code",
   "execution_count": null,
   "id": "5ac27421",
   "metadata": {},
   "outputs": [],
   "source": [
    "%load_ext autoreload\n",
    "%autoreload 2\n",
    "\n",
    "import numpy as np\n",
    "import os\n",
    "from datetime import datetime\n",
    "import shapely\n",
    "from test.processors.planetary.sentinel_2_l2a.test_processor import create_test_geobox\n",
    "from stacathome.requests import _get_provider_and_processor\n",
    "\n",
    "import stacathome\n",
    "\n",
    "geobox = create_test_geobox(shapely.Point(603053,7099667), resolution=100, size_box=5000, crs='EPSG:32735')\n",
    "roi = geobox.footprint('EPSG:4326', buffer=0, npoints=4)\n"
   ]
  },
  {
   "cell_type": "markdown",
   "id": "11ad5a10",
   "metadata": {},
   "source": [
    "Because here we are interested in the coverage of the diurnal cycle, we access and download images over all 5 years available in ECOSTRESS. We only use version 002 (ECO_002 in the filename), the latest one. processor.filter_items() will apply a a filter that only keeps the image from the latest processing iteration (indicated by e.g. the 0712_01_ in the filename). \n",
    "\n",
    "Select a startdate and an end date, here the dry season in this specific area, e.g. June and September. \n",
    "You request a provider and a processor"
   ]
  },
  {
   "cell_type": "code",
   "execution_count": null,
   "id": "d7f7619e",
   "metadata": {},
   "outputs": [],
   "source": [
    "for i in range(2019, 2024):\n",
    "    for month in [6, 9]:\n",
    "        startdate = datetime(i, month, 1)\n",
    "        enddate = datetime(i, month+1, 1)\n",
    "\n",
    "        provider_name = 'earthaccess'\n",
    "        collection = 'ECO_L2T_LSTE'\n",
    "        kwargs = {'version': '002'}\n",
    "\n",
    "\n",
    "        provider, processor = _get_provider_and_processor(provider_name, collection, None, False)\n",
    "\n",
    "        items = provider.request_items(\n",
    "            collection=collection,\n",
    "            starttime=startdate,\n",
    "            endtime=enddate,\n",
    "            roi=roi,\n",
    "            **kwargs,\n",
    "        )\n",
    "        if not items:\n",
    "            raise ValueError('No items matched the search query')\n",
    "\n",
    "        items = processor.filter_items(provider, roi, items)\n",
    "\n",
    "        provider.load_granule(\n",
    "            items,\n",
    "            out_dir='/Net/Groups/BGI/work_5/scratch/mwessel/ecostress', # specify path on which to store sdata\n",
    "            threads=4)"
   ]
  },
  {
   "cell_type": "markdown",
   "id": "9704f837",
   "metadata": {},
   "source": [
    "Check how many items the processor found in the requested time period over the region of interest:"
   ]
  },
  {
   "cell_type": "code",
   "execution_count": null,
   "id": "8e9b73ab",
   "metadata": {},
   "outputs": [],
   "source": [
    "len(items)\n",
    "items\n",
    "provider.load_granule(items)"
   ]
  },
  {
   "cell_type": "markdown",
   "id": "b8c47839",
   "metadata": {},
   "source": [
    "Make use of the geobox to explore the cutout in your region of interest."
   ]
  },
  {
   "cell_type": "code",
   "execution_count": null,
   "id": "2bb79ca9",
   "metadata": {},
   "outputs": [],
   "source": [
    "roi.explore()"
   ]
  },
  {
   "cell_type": "markdown",
   "id": "671606a1",
   "metadata": {},
   "source": [
    "Explore this data with stacathome as you loaded it:"
   ]
  },
  {
   "cell_type": "code",
   "execution_count": null,
   "id": "f112d152",
   "metadata": {},
   "outputs": [],
   "source": [
    "collection, dataset = stacathome.load(\n",
    "    provider_name='earthaccess',\n",
    "    collection='ECO_L2T_LSTE',\n",
    "    version ='002',\n",
    "    roi=roi,\n",
    "    starttime=startdate,\n",
    "    endtime=enddate,\n",
    "    variables=['LST'],\n",
    ")\n",
    "dataset"
   ]
  },
  {
   "cell_type": "markdown",
   "id": "3bb41a7b",
   "metadata": {},
   "source": [
    "# Examples for Sentinel 2"
   ]
  },
  {
   "cell_type": "code",
   "execution_count": null,
   "id": "0e402407",
   "metadata": {},
   "outputs": [],
   "source": [
    "from stacathome.processors import BaseProcessor\n",
    "collection, dataset = stacathome.load(\n",
    "    provider_name='cdse',\n",
    "    collection='sentinel-2-l2a',\n",
    "    roi=roi,\n",
    "    starttime=startdate,\n",
    "    endtime=enddate,\n",
    "    variables=['B08_10m', 'B8A_20m', 'B01_60m'],\n",
    "    # processor=BaseProcessor(),\n",
    ")\n",
    "dataset"
   ]
  },
  {
   "cell_type": "code",
   "execution_count": null,
   "id": "98b2b5b2",
   "metadata": {},
   "outputs": [],
   "source": [
    "collection"
   ]
  },
  {
   "cell_type": "code",
   "execution_count": null,
   "id": "397a5618",
   "metadata": {},
   "outputs": [],
   "source": [
    "collection_pc, dataset_pc = stacathome.load(\n",
    "    provider_name='planetary_computer',\n",
    "    collection='sentinel-2-l2a',\n",
    "    roi=roi,\n",
    "    starttime=startdate,\n",
    "    endtime=enddate,\n",
    "    variables=['B08', 'B8A', 'B01'],\n",
    ")\n",
    "dataset_pc"
   ]
  },
  {
   "cell_type": "code",
   "execution_count": null,
   "id": "3dc8bc90",
   "metadata": {},
   "outputs": [],
   "source": [
    "collection_pc"
   ]
  },
  {
   "cell_type": "code",
   "execution_count": null,
   "id": "300f449c",
   "metadata": {},
   "outputs": [],
   "source": [
    "np.unique((dataset.B01_60m.isel(time=2) - 1000 ).values == dataset_pc.B01.isel(time=0).values)"
   ]
  },
  {
   "cell_type": "code",
   "execution_count": null,
   "id": "0a97edc8",
   "metadata": {},
   "outputs": [],
   "source": [
    "dataset.B01_60m.isel(time=3).plot()"
   ]
  },
  {
   "cell_type": "code",
   "execution_count": null,
   "id": "f0304e5e",
   "metadata": {},
   "outputs": [],
   "source": [
    "# startdate = datetime(2024, 7, 10)\n",
    "# enddate = datetime(2024, 7, 30)\n",
    "\n",
    "# collection, dataset = stacathome.load(\n",
    "#     provider_name='earthaccess',\n",
    "#     collection='ECO_L2T_LSTE',\n",
    "#     version ='002',\n",
    "#     roi=roi,\n",
    "#     starttime=startdate,\n",
    "#     endtime=enddate,\n",
    "#     variables=['LST'],\n",
    "# )\n",
    "# dataset\n",
    "\n",
    "import shapely\n",
    "from stacathome.providers import get_provider\n",
    "from stacathome.processors.ecostress import ECO_L2T_LSTEProcessor\n",
    "from stacathome.stac import enclosing_geoboxes_per_grid\n",
    "from test.processors.planetary.sentinel_2_l2a.test_processor import create_test_geobox\n",
    "\n",
    "variables = ['LST']\n",
    "provider = get_provider('earthaccess')\n",
    "\n",
    "geobox = create_test_geobox(shapely.Point(603053,7099667), resolution=100, size_box=5000, crs='EPSG:32735')\n",
    "roi = geobox.footprint('EPSG:4326', buffer=0, npoints=4)\n",
    "\n",
    "items = provider.request_items(\n",
    "    collection='ECO_L2T_LSTE',\n",
    "    version ='002',\n",
    "    starttime='2025-07-10',\n",
    "    endtime='2025-07-15',\n",
    "    roi=roi,\n",
    ")\n",
    "\n",
    "processor = ECO_L2T_LSTEProcessor()\n",
    "\n",
    "u_items = processor.filter_items(provider, roi, items)\n",
    "\n",
    "# #-< enter solution 2 get all granules - the next line will download all selected variables in the filtered u_items\n",
    "u_items = provider.load_granule(u_items, variables)\n",
    "\n",
    "# # now the items assets are updated (just for the selected variables!) so creating a zarr from them local:\n",
    "\n",
    "gb = enclosing_geoboxes_per_grid(u_items[0], roi)\n",
    "data = processor.load_items_geoboxed(provider, gb[0].enclosing_box, u_items, variables = variables)\n",
    "# data.to_zarr('/Net/Groups/BGI/work_5/scratch/mzehner/eco_MLESM/ecostress_test.zarr', mode='w')"
   ]
  }
 ],
 "metadata": {
  "kernelspec": {
   "display_name": "stacathom",
   "language": "python",
   "name": "stacathome"
  },
  "language_info": {
   "codemirror_mode": {
    "name": "ipython",
    "version": 3
   },
   "file_extension": ".py",
   "mimetype": "text/x-python",
   "name": "python",
   "nbconvert_exporter": "python",
   "pygments_lexer": "ipython3",
   "version": "3.12.11"
  }
 },
 "nbformat": 4,
 "nbformat_minor": 5
}
